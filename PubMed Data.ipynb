{
 "cells": [
  {
   "cell_type": "markdown",
   "metadata": {},
   "source": [
    "# Pubmed Data Reading"
   ]
  },
  {
   "cell_type": "markdown",
   "metadata": {},
   "source": [
    "Read the data from this website:https://ftp.ncbi.nlm.nih.gov/pubmed/baseline/\n",
    "Build an XML tree and extract information"
   ]
  },
  {
   "cell_type": "code",
   "execution_count": 1,
   "metadata": {},
   "outputs": [],
   "source": [
    "import xml.etree.ElementTree\n",
    "\n",
    "def make_dict_from_tree(element_tree):\n",
    "    \"\"\"Traverse the given XML element tree to convert it into a dictionary.\n",
    "    \n",
    "    :param element_tree: An XML element tree\n",
    "    :type element_tree: xml.etree.ElementTree\n",
    "    :rtype: dict\n",
    "    \"\"\"\n",
    "    def internal_iter(tree, accum):\n",
    "        \"\"\"Recursively iterate through the elements of the tree accumulating\n",
    "        a dictionary result.\n",
    "        \n",
    "        :param tree: The XML element tree\n",
    "        :type tree: xml.etree.ElementTree\n",
    "        :param accum: Dictionary into which data is accumulated\n",
    "        :type accum: dict\n",
    "        :rtype: dict\n",
    "        \"\"\"\n",
    "        if tree is None:\n",
    "            return accum\n",
    "        \n",
    "        if tree.getchildren():\n",
    "            accum[tree.tag] = {}\n",
    "            for each in tree.getchildren():\n",
    "                result = internal_iter(each, {})\n",
    "                if each.tag in accum[tree.tag]:\n",
    "                    if not isinstance(accum[tree.tag][each.tag], list):\n",
    "                        accum[tree.tag][each.tag] = [\n",
    "                            accum[tree.tag][each.tag]\n",
    "                        ]\n",
    "                    accum[tree.tag][each.tag].append(result[each.tag])\n",
    "                else:\n",
    "                    accum[tree.tag].update(result)\n",
    "        else:\n",
    "            accum[tree.tag] = tree.text\n",
    "        \n",
    "        return accum\n",
    "    \n",
    "    return internal_iter(element_tree, {})"
   ]
  },
  {
   "cell_type": "code",
   "execution_count": 2,
   "metadata": {},
   "outputs": [],
   "source": [
    "#Build the XML tree\n",
    "tree = xml.etree.ElementTree.parse('pubmed18n0001.xml')\n",
    "root = tree.getroot()\n",
    "\n",
    "xmlstr = xml.etree.ElementTree.tostring(root, encoding='unicode', method='xml')\n",
    "temporary_dict = make_dict_from_tree(xml.etree.ElementTree.fromstring(xmlstr))"
   ]
  },
  {
   "cell_type": "code",
   "execution_count": 3,
   "metadata": {},
   "outputs": [
    {
     "name": "stdout",
     "output_type": "stream",
     "text": [
      "{'Journal': {'ISSN': '0264-6021', 'JournalIssue': {'Volume': '149', 'Issue': '3', 'PubDate': {'Year': '1975', 'Month': 'Sep'}}, 'Title': 'The Biochemical journal', 'ISOAbbreviation': 'Biochem. J.'}, 'ArticleTitle': 'The amino acid sequence of Neurospora NADP-specific glutamate dehydrogenase. Peptides from digestion with a staphylococcal proteinase.', 'Pagination': {'MedlinePgn': '749-55'}, 'Abstract': {'AbstractText': 'The extracellular proteinase of Staphylococcus aureus strain V8 was used to digest the NADP-specific glutamate dehydrogenase of Neurospora crassa. Of 35 non-overlapping peptides expected from the glutamate content of the polypeptide chain, 29 were isolated and substantially sequenced. The sequences obtained were valuable in providing overlaps for the alignment of about two-thirds of the sequences found in tryptic peptides [Wootton, J. C., Taylor, J, G., Jackson, A. A., Chambers, G. K. & Fincham, J. R. S. (1975) Biochem. J. 149, 739-748]. The blocked N-terminal peptide of the protein was isolated. This peptide was sequenced by mass spectrometry, and found to have N-terminal N-acetylserine by Howard R. Morris and Anne Dell, whose results are presented as an Appendix to the main paper. The staphylococcal proteinase showed very high specificity for glutamyl bonds in the NH4HCO3 buffer used. Partial splits of two aspartyl bonds, both Asp-Ile, were probably attributable to the proteinase. No cleavage of glutaminyl or S-carboxymethylcysteinyl bonds was found. Additional experimental detail has been deposited as Supplementary Publication SUP 50053 (5 pages) with the British Library (Lending Division), Boston Spa, Wetherby, W. Yorkshire LS23 7BQ, U.K, from whom copies may be obtained under the terms given in Biochem. J. (1975) 1458 5.'}, 'AuthorList': {'Author': [{'LastName': 'Wootton', 'ForeName': 'J C', 'Initials': 'JC'}, {'LastName': 'Baron', 'ForeName': 'A J', 'Initials': 'AJ'}, {'LastName': 'Fincham', 'ForeName': 'J R', 'Initials': 'JR'}]}, 'Language': 'eng', 'PublicationTypeList': {'PublicationType': 'Journal Article'}}\n"
     ]
    }
   ],
   "source": [
    "#Print Article Info\n",
    "print(temporary_dict[\"PubmedArticleSet\"][\"PubmedArticle\"][1000][\"MedlineCitation\"][\"Article\"])"
   ]
  },
  {
   "cell_type": "code",
   "execution_count": 4,
   "metadata": {},
   "outputs": [
    {
     "name": "stdout",
     "output_type": "stream",
     "text": [
      "{'MeshHeading': [{'DescriptorName': 'Amino Acid Sequence'}, {'DescriptorName': 'Glutamate Dehydrogenase', 'QualifierName': ['analysis', 'isolation & purification']}, {'DescriptorName': 'NADP'}, {'DescriptorName': 'Neurospora', 'QualifierName': 'enzymology'}, {'DescriptorName': 'Neurospora crassa', 'QualifierName': 'enzymology'}, {'DescriptorName': 'Peptide Fragments', 'QualifierName': 'analysis'}, {'DescriptorName': 'Peptide Hydrolases'}, {'DescriptorName': 'Staphylococcus aureus', 'QualifierName': 'enzymology'}]}\n"
     ]
    }
   ],
   "source": [
    "#print Mesheading List\n",
    "print(temporary_dict[\"PubmedArticleSet\"][\"PubmedArticle\"][1000][\"MedlineCitation\"][\"MeshHeadingList\"])"
   ]
  },
  {
   "cell_type": "code",
   "execution_count": null,
   "metadata": {},
   "outputs": [],
   "source": []
  }
 ],
 "metadata": {
  "kernelspec": {
   "display_name": "Python 2",
   "language": "python",
   "name": "python2"
  },
  "language_info": {
   "codemirror_mode": {
    "name": "ipython",
    "version": 2
   },
   "file_extension": ".py",
   "mimetype": "text/x-python",
   "name": "python",
   "nbconvert_exporter": "python",
   "pygments_lexer": "ipython2",
   "version": "2.7.15rc1"
  }
 },
 "nbformat": 4,
 "nbformat_minor": 2
}
