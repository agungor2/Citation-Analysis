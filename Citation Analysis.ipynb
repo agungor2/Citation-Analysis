{
 "cells": [
  {
   "cell_type": "markdown",
   "metadata": {},
   "source": [
    "## Citation Analysis"
   ]
  },
  {
   "cell_type": "code",
   "execution_count": 2,
   "metadata": {},
   "outputs": [],
   "source": [
    "import json\n",
    "\n",
    "good_columns = [\n",
    "                \"authors\",\n",
    "                \"n_citation\",\n",
    "                \"references\",\n",
    "                \"title\",\n",
    "                \"venue\",\n",
    "                \"year\",\n",
    "                \"id\"\n",
    "        ]\n",
    "\"\"\"\n",
    "#Example line from the dataset\n",
    "{\n",
    "  \"authors\": [\n",
    "    \"Leon A. Sakkal\",\n",
    "    \"Kyle Z. Rajkowski\",\n",
    "    \"Roger S. Armen\"\n",
    "  ],\n",
    "  \"n_citation\": 0,\n",
    "  \"references\": [\n",
    "    \"4f4f200c-0764-4fef-9718-b8bccf303dba\",\n",
    "    \"aa699fbf-fabe-40e4-bd68-46eaf333f7b1\"\n",
    "  ],\n",
    "  \"title\": \"Prediction of consensus binding mode geometries for related chemical series of positive allosteric modulators of adenosine and muscarinic acetylcholine receptors\",\n",
    "  \"venue\": \"Journal of Computational Chemistry\",\n",
    "  \"year\": 2017,\n",
    "  \"id\": \"013ea675-bb58-42f8-a423-f5534546b2b1\"\n",
    "}\n",
    "\"\"\"\n",
    "\n",
    "data = []\n",
    "with open('dblp-ref-0.json') as f:\n",
    "    for line in f:\n",
    "        data.append(json.loads(line))"
   ]
  },
  {
   "cell_type": "code",
   "execution_count": 3,
   "metadata": {},
   "outputs": [
    {
     "data": {
      "text/plain": [
       "{'authors': ['Fevzi Belli', 'Hinrich E. G. Bonin'],\n",
       " 'n_citation': 0,\n",
       " 'references': ['4a9503da-e1fc-47d7-aef9-6901833c6e25'],\n",
       " 'title': 'Einsatz eines Gefahrgut-Informationssystems - Beobachtungen und Konsequenzen für die Weiterentwicklung',\n",
       " 'venue': '',\n",
       " 'year': 1989,\n",
       " 'id': '06edffe0-60f0-45a1-9986-5d4ba41c7f21'}"
      ]
     },
     "execution_count": 3,
     "metadata": {},
     "output_type": "execute_result"
    }
   ],
   "source": [
    "data[99]"
   ]
  },
  {
   "cell_type": "code",
   "execution_count": 4,
   "metadata": {},
   "outputs": [
    {
     "data": {
      "text/plain": [
       "{'authors': ['Nils Joachim', 'Daniel Beimborn', 'Tim Weitzel'],\n",
       " 'n_citation': 9,\n",
       " 'references': ['0eef6869-df60-4dda-a984-ecb1ab8593c1',\n",
       "  '2670d639-ef64-420e-adfe-a58f39b5d8fb',\n",
       "  '38bf5171-1723-4ed1-970f-d7285e601b89',\n",
       "  '440c7fe2-014f-42a5-a60a-a7126ac6818a',\n",
       "  '5f1584c0-e0f5-490e-99a2-27585f42eb5d',\n",
       "  '758d0bad-c1fd-4c32-b52b-4b46a254b7da',\n",
       "  '8e4a5834-8382-47fc-81ff-f26c48b71e94',\n",
       "  '904b00a8-6e34-42bc-9b5a-8dd0f7d14711',\n",
       "  '917882ba-7729-448c-8d89-86e52c3eb08c',\n",
       "  '93eb0792-585b-456e-8bf3-da6b80e71824',\n",
       "  'a2034ea1-85a9-4c65-8559-41158ffdcfc2',\n",
       "  'a636da6c-f1db-4d8b-a054-4742a637bb5a',\n",
       "  'ccfc718e-2fae-4918-bf64-d278cbcd5fba',\n",
       "  'd250805c-3a5c-497e-94e6-65e992c74ab5',\n",
       "  'd3050483-329b-42d5-ab0b-f3291ade3e13',\n",
       "  'd41c5a78-1310-414b-9f4a-dd5a1e29b726',\n",
       "  'd885b006-45ff-48cd-91ce-250c13fe2844',\n",
       "  'f0e868ea-b60d-48a9-af32-cbbccca0a20a',\n",
       "  'ffcaf602-01e0-427d-a913-794af6891da4'],\n",
       " 'title': 'SOA-Governance für effektive serviceorientierte Architekturen – Eine empirische Studie in der deutschen Dienstleistungswirtschaft',\n",
       " 'venue': 'Wirtschaftsinformatik \\\\/ Angewandte Informatik',\n",
       " 'year': 2011,\n",
       " 'id': '06f630bc-11c3-4df0-b4f4-d9ff79d55ce0'}"
      ]
     },
     "execution_count": 4,
     "metadata": {},
     "output_type": "execute_result"
    }
   ],
   "source": [
    "data[100]"
   ]
  },
  {
   "cell_type": "code",
   "execution_count": 5,
   "metadata": {},
   "outputs": [
    {
     "data": {
      "text/plain": [
       "['authors', 'n_citation', 'references', 'title', 'venue', 'year', 'id']"
      ]
     },
     "execution_count": 5,
     "metadata": {},
     "output_type": "execute_result"
    }
   ],
   "source": [
    "# These are the information we have on the dataset\n",
    "good_columns"
   ]
  },
  {
   "cell_type": "code",
   "execution_count": null,
   "metadata": {},
   "outputs": [],
   "source": []
  }
 ],
 "metadata": {
  "kernelspec": {
   "display_name": "Python 2",
   "language": "python",
   "name": "python2"
  },
  "language_info": {
   "codemirror_mode": {
    "name": "ipython",
    "version": 2
   },
   "file_extension": ".py",
   "mimetype": "text/x-python",
   "name": "python",
   "nbconvert_exporter": "python",
   "pygments_lexer": "ipython2",
   "version": "2.7.15rc1"
  }
 },
 "nbformat": 4,
 "nbformat_minor": 2
}
