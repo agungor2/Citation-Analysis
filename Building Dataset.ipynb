{
 "cells": [
  {
   "cell_type": "markdown",
   "metadata": {},
   "source": [
    "# Building Dataset Step by Step"
   ]
  },
  {
   "cell_type": "code",
   "execution_count": 1,
   "metadata": {},
   "outputs": [],
   "source": [
    "#Read the Nature articles page to list out all nature publications\n",
    "import requests ; from bs4 import BeautifulSoup\n",
    "url = \"https://www.nature.com/siteindex/index.html\"\n",
    "    \n",
    "response = requests.get(url)\n",
    "html = BeautifulSoup(response.text, 'html.parser')\n",
    "# Take out the <div> of name and get its value\n",
    "list_of_journals = []\n",
    "for at in html.select('a'):\n",
    "    list_of_journals.append(at.text)\n",
    "new_list = list_of_journals[24:185]\n",
    "del list_of_journals\n",
    "at2 = [x for x in new_list if x != 'Back to top']\n",
    "del new_list"
   ]
  },
  {
   "cell_type": "code",
   "execution_count": 2,
   "metadata": {},
   "outputs": [
    {
     "name": "stdout",
     "output_type": "stream",
     "text": [
      "['Acta Pharmacologica Sinica', 'American Journal of Gastroenterology', 'American Journal of Gastroenterology Supplements', 'BDJ Open', 'BDJ Team', 'Blood Cancer Journal', 'Bone Marrow Transplantation', 'Bone Research', 'British Dental Journal', 'British Journal of Cancer', 'Cancer Gene Therapy', 'Cell Death & Disease', 'Cell Death and Differentiation', 'Cell Death Discovery', 'Cell Discovery', 'Cell Research', 'Cellular & Molecular Immunology', 'Clinical & Translational Immunology', 'Clinical and Translational Gastroenterology', 'Communications Biology', 'Communications Chemistry', 'Communications Physics', 'Emerging Microbes & Infections', 'European Journal of Clinical Nutrition', 'European Journal of Human Genetics', 'Evidence-Based Dentistry', 'Experimental & Molecular Medicine', 'Eye', 'Gene Therapy', 'Genes and Immunity', 'Genetics in Medicine', 'Heredity', 'Horticulture Research', 'Human Genome Variation', 'Hypertension Research', 'Immunology and Cell Biology', 'International Journal of Impotence Research', 'International Journal of Obesity', 'International Journal of Obesity Supplements', 'International Journal of Oral Science', 'ISME Journal', 'Journal of Exposure Science and Environmental Epidemiology', 'Journal of Human Genetics', 'Journal of Human Hypertension', 'Journal of Perinatology', 'Journal of Antibiotics', 'Lab Animal', 'Laboratory Investigation', 'Leukemia', 'Leukemia Supplements', 'Light: Science & Applications', 'Microsystems & Nanoengineering', 'Modern Pathology', 'Molecular Psychiatry', 'Mucosal Immunology', 'Nature', 'Nature Astronomy', 'Nature Biomedical Engineering', 'Nature Biotechnology', 'Nature Catalysis', 'Nature Cell Biology', 'Nature Chemical Biology', 'Nature Chemistry', 'Nature Climate Change', 'Nature Clinical Practice Endocrinology & Metabolism', 'Nature Clinical Practice Neurology', 'Nature Clinical Practice Rheumatology', 'Nature Clinical Practice Urology', 'Nature Communications', 'Nature Digest', 'Nature Ecology & Evolution', 'Nature Electronics', 'Nature Energy', 'Nature Genetics', 'Nature Geoscience', 'Nature Human Behaviour', 'Nature Immunology', 'Nature Machine Intelligence', 'Nature Materials', 'Nature Medicine', 'Nature Metabolism', 'Nature Methods', 'Nature Microbiology', 'Nature Milestones', 'Nature Nanotechnology', 'Nature Neuroscience', 'Nature Photonics', 'Nature Physics', 'Nature Plants', 'Nature Protocols', 'Nature Reports Climate Change', 'Nature Reviews Cancer', 'Nature Reviews Cardiology', 'Nature Reviews Chemistry', 'Nature Reviews Clinical Oncology', 'Nature Reviews Disease Primers', 'Nature Reviews Drug Discovery', 'Nature Reviews Endocrinology', 'Nature Reviews Gastroenterology & Hepatology', 'Nature Reviews Genetics', 'Nature Reviews Immunology', 'Nature Reviews Materials', 'Nature Reviews Microbiology', 'Nature Reviews Molecular Cell Biology', 'Nature Reviews Nephrology', 'Nature Reviews Neurology', 'Nature Reviews Neuroscience', 'Nature Reviews Physics', 'Nature Reviews Rheumatology', 'Nature Reviews Urology', 'Nature Structural & Molecular Biology', 'Nature Structural Biology', 'Nature Sustainability', 'Neuropsychopharmacology', 'NPG Asia Materials', 'npj 2D Materials and Applications', 'npj Aging and Mechanisms of Disease', 'npj Biofilms and Microbiomes', 'npj Breast Cancer', 'npj Clean Water', 'npj Climate and Atmospheric Science', 'npj Computational Materials', 'npj Digital Medicine', 'npj Flexible Electronics', 'npj Genomic Medicine', 'npj Materials Degradation', 'npj Microgravity', \"npj Parkinson's Disease\", 'npj Precision Oncology', 'npj Primary Care Respiratory Medicine', 'npj Quantum Information', 'npj Quantum Materials', 'npj Regenerative Medicine', 'npj Schizophrenia', 'npj Science of Food', 'npj Science of Learning', 'npj Systems Biology and Applications', 'npj Vaccines', 'Nutrition & Diabetes', 'Oncogene', 'Oncogenesis', 'Palgrave Communications', 'Pediatric Research', 'Polymer Journal', 'Primary Care Respiratory Journal', 'Prostate Cancer and Prostatic Diseases', 'Pharmacogenomics Journal', 'Scientific American', 'Scientific American Mind', 'Scientific Data', 'Scientific Reports', 'Signal Transduction and Targeted Therapy', 'Spinal Cord', 'Spinal Cord Series and Cases', 'Translational Psychiatry']\n"
     ]
    }
   ],
   "source": [
    "print(at2)"
   ]
  },
  {
   "cell_type": "code",
   "execution_count": 3,
   "metadata": {},
   "outputs": [],
   "source": [
    "#Now add the Science Journals and PNAS\n",
    "\n",
    "at2.append('Proceedings of the National Academy of Sciences of the United States of America')\n",
    "at2.append('Science')\n",
    "at2.append('Science Advances')\n",
    "at2.append('Science Translational Medicine')\n",
    "at2.append('Science Signaling')\n",
    "at2.append('Science Immunology')\n",
    "at2.append('Science Robotics')\n"
   ]
  },
  {
   "cell_type": "code",
   "execution_count": 5,
   "metadata": {},
   "outputs": [
    {
     "name": "stdout",
     "output_type": "stream",
     "text": [
      "162\n"
     ]
    }
   ],
   "source": [
    "#Total Number of Journal List\n",
    "print(len(at2))"
   ]
  },
  {
   "cell_type": "code",
   "execution_count": 6,
   "metadata": {},
   "outputs": [
    {
     "name": "stdout",
     "output_type": "stream",
     "text": [
      "['dblp-ref-0.json', 'dblp-ref-3.json', 'dblp-ref-2.json', 'dblp-ref-1.json']\n"
     ]
    }
   ],
   "source": [
    "#Now Read and select the journals\n",
    "import os, json\n",
    "\n",
    "path_to_json = '/home/mecit/Desktop/Citation Analysis/dblp.v10/dblp-ref'\n",
    "json_files = [pos_json for pos_json in os.listdir(path_to_json) if pos_json.endswith('.json')]\n",
    "print(json_files)  # for me this prints ['foo.json']\n",
    "\n",
    "selected_journals = []\n",
    "\n",
    "for files in json_files:\n",
    "    data = []\n",
    "    with open(files) as f:\n",
    "        for line in f:\n",
    "            data.append(json.loads(line))\n",
    "            \n",
    "    for i in range(len(data)):\n",
    "        #Check if it is in the selected journal list\n",
    "        if data[i]['venue'] in at2:\n",
    "            selected_journals.append(data[i])\n",
    "            #print(data[i]['venue'])"
   ]
  },
  {
   "cell_type": "code",
   "execution_count": 7,
   "metadata": {},
   "outputs": [
    {
     "name": "stdout",
     "output_type": "stream",
     "text": [
      "706\n"
     ]
    }
   ],
   "source": [
    "#Total number of Journals in Science, Nature, PNAS\n",
    "print(len(selected_journals))"
   ]
  },
  {
   "cell_type": "code",
   "execution_count": 8,
   "metadata": {},
   "outputs": [
    {
     "name": "stdout",
     "output_type": "stream",
     "text": [
      "Size of unique publication venue number\n",
      "5079\n",
      ": 506699\n",
      "Lecture Notes in Computer Science: 32137\n",
      "international conference on acoustics, speech, and signal processing: 26621\n",
      "international conference on robotics and automation: 19943\n",
      "international conference on image processing: 18336\n",
      "international conference on communications: 17679\n",
      "international symposium on circuits and systems: 16945\n",
      "global communications conference: 15850\n",
      "international geoscience and remote sensing symposium: 15390\n",
      "intelligent robots and systems: 14698\n",
      "conference of the international speech communication association: 13510\n",
      "human factors in computing systems: 13120\n",
      "Applied Mathematics and Computation: 13060\n",
      "vehicular technology conference: 12605\n",
      "conference on decision and control: 12139\n",
      "national conference on artificial intelligence: 10605\n",
      "IEEE Transactions on Information Theory: 10526\n",
      "international conference on computer graphics and interactive techniques: 10309\n",
      "hawaii international conference on system sciences: 10220\n",
      "Discrete Mathematics: 10167\n",
      "IEEE Transactions on Signal Processing: 10133\n",
      "Bioinformatics: 10072\n",
      "European Journal of Operational Research: 9983\n",
      "computer vision and pattern recognition: 9809\n",
      "systems, man and cybernetics: 9754\n",
      "international conference on pattern recognition: 9584\n",
      "Neurocomputing: 9579\n",
      "Expert Systems With Applications: 9491\n",
      "NeuroImage: 8804\n",
      "IEEE Transactions on Communications: 8739\n",
      "Sensors: 8656\n",
      "international symposium on neural networks: 8637\n",
      "wireless communications and networking conference: 8549\n",
      "soft computing: 8320\n",
      "Theoretical Computer Science: 8300\n",
      "BMC Bioinformatics: 7907\n",
      "Communications of The ACM: 7887\n",
      "personal, indoor and mobile radio communications: 7822\n",
      "winter simulation conference: 7690\n",
      "IEEE Transactions on Geoscience and Remote Sensing: 7620\n",
      "IEEE Transactions on Industrial Electronics: 7548\n",
      "Automatica: 7193\n",
      "international conference on computer communications: 7159\n",
      "systems man and cybernetics: 6904\n",
      "international joint conference on artificial intelligence: 6882\n",
      "Information Sciences: 6873\n",
      "congress on evolutionary computation: 6756\n",
      "IEEE Transactions on Wireless Communications: 6660\n",
      "international conference on multimedia and expo: 6584\n",
      "IEEE Communications Letters: 6576\n",
      "neural information processing systems: 6355\n",
      "Pattern Recognition: 6177\n",
      "advances in computing and communications: 6173\n",
      "international conference on conceptual structures: 6165\n",
      "design automation conference: 6164\n",
      "ieee international conference on high performance computing data and analytics: 6120\n",
      "international parallel and distributed processing symposium: 6084\n",
      "IEEE Transactions on Vehicular Technology: 6024\n",
      "international symposium on information theory: 5946\n",
      "Journal of Computational Physics: 5938\n",
      "technical symposium on computer science education: 5908\n",
      "IEEE Transactions on Computers: 5779\n",
      "acm symposium on applied computing: 5772\n",
      "international conference on software engineering: 5759\n",
      "IEEE Transactions on Image Processing: 5751\n",
      "arXiv: Information Theory: 5608\n",
      "IEEE Transactions on Automatic Control: 5559\n",
      "Proceedings of SPIE: 5526\n",
      "genetic and evolutionary computation conference: 5515\n",
      "Wireless Personal Communications: 5514\n",
      "IEEE Transactions on Instrumentation and Measurement: 5511\n",
      "Information Processing Letters: 5468\n",
      "Signal Processing: 5456\n",
      "Nucleic Acids Research: 5339\n",
      "Discrete Applied Mathematics: 5338\n",
      "international world wide web conferences: 5303\n",
      "design, automation, and test in europe: 5267\n",
      "IEICE Transactions on Communications: 5229\n",
      "IEEE Journal on Selected Areas in Communications: 5199\n",
      "Pattern Recognition Letters: 5084\n",
      "fuzzy systems and knowledge discovery: 4976\n",
      "IEEE Transactions on Pattern Analysis and Machine Intelligence: 4965\n",
      "IEEE Transactions on Biomedical Engineering: 4911\n",
      "Journal of Combinatorial Theory: 4846\n",
      "knowledge discovery and data mining: 4839\n",
      "international conference on management of data: 4826\n",
      "international conference on information systems: 4783\n",
      "Cognitive Science: 4771\n",
      "ieee international conference on fuzzy systems: 4769\n",
      "meeting of the association for computational linguistics: 4740\n",
      "international symposium on biomedical imaging: 4705\n",
      "Journal of Computational Chemistry: 4658\n",
      "international conference of the ieee engineering in medicine and biology society: 4609\n",
      "international conference on parallel processing: 4599\n",
      "IEICE Transactions on Fundamentals of Electronics, Communications and Computer Sciences: 4557\n",
      "Microelectronics Reliability: 4523\n",
      "parallel computing: 4515\n",
      "international conference on human computer interaction: 4509\n",
      "robotics and biomimetics: 4484\n",
      "conference on information and knowledge management: 4483\n"
     ]
    }
   ],
   "source": [
    "#Now let's analyse the different number of venues\n",
    "unique_publication_venue = {}\n",
    "for files in json_files:\n",
    "    data = []\n",
    "    with open(files) as f:\n",
    "        for line in f:\n",
    "            data.append(json.loads(line))\n",
    "            \n",
    "    for i in range(len(data)):\n",
    "        if data[i]['venue'] in unique_publication_venue:\n",
    "            unique_publication_venue[data[i]['venue']] += 1\n",
    "        else:\n",
    "            unique_publication_venue[data[i]['venue']] = 1\n",
    " \n",
    "print(\"Size of unique publication venue number\")\n",
    "print(len(unique_publication_venue))\n",
    "#Now let's sort it out and print the top 100 \n",
    "from collections import Counter\n",
    "d = Counter(unique_publication_venue)\n",
    "for k,v in d.most_common(100):\n",
    "    print('%s: %i' % (k, v))"
   ]
  },
  {
   "cell_type": "code",
   "execution_count": null,
   "metadata": {},
   "outputs": [],
   "source": []
  }
 ],
 "metadata": {
  "kernelspec": {
   "display_name": "Python 3",
   "language": "python",
   "name": "python3"
  },
  "language_info": {
   "codemirror_mode": {
    "name": "ipython",
    "version": 3
   },
   "file_extension": ".py",
   "mimetype": "text/x-python",
   "name": "python",
   "nbconvert_exporter": "python",
   "pygments_lexer": "ipython3",
   "version": "3.6.6"
  }
 },
 "nbformat": 4,
 "nbformat_minor": 2
}
